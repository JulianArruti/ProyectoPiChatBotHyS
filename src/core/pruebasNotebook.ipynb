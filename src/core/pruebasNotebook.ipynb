{
 "cells": [
  {
   "cell_type": "code",
   "execution_count": 17,
   "metadata": {},
   "outputs": [
    {
     "ename": "ModuleNotFoundError",
     "evalue": "No module named 'List'",
     "output_type": "error",
     "traceback": [
      "\u001b[1;31m---------------------------------------------------------------------------\u001b[0m",
      "\u001b[1;31mModuleNotFoundError\u001b[0m                       Traceback (most recent call last)",
      "Cell \u001b[1;32mIn[17], line 1\u001b[0m\n\u001b[1;32m----> 1\u001b[0m \u001b[38;5;28;01mimport\u001b[39;00m \u001b[38;5;21;01mList\u001b[39;00m\n",
      "\u001b[1;31mModuleNotFoundError\u001b[0m: No module named 'List'"
     ]
    }
   ],
   "source": [
    "import List"
   ]
  },
  {
   "cell_type": "code",
   "execution_count": 13,
   "metadata": {},
   "outputs": [
    {
     "name": "stdout",
     "output_type": "stream",
     "text": [
      "Note: you may need to restart the kernel to use updated packages.\n"
     ]
    },
    {
     "name": "stderr",
     "output_type": "stream",
     "text": [
      "ERROR: Could not find a version that satisfies the requirement document_processor (from versions: none)\n",
      "ERROR: No matching distribution found for document_processor\n",
      "\n",
      "[notice] A new release of pip is available: 24.0 -> 24.3.1\n",
      "[notice] To update, run: python.exe -m pip install --upgrade pip\n"
     ]
    }
   ],
   "source": [
    "pip install document_processor"
   ]
  },
  {
   "cell_type": "code",
   "execution_count": 19,
   "metadata": {},
   "outputs": [
    {
     "name": "stdout",
     "output_type": "stream",
     "text": [
      "Collecting python-multipart\n",
      "  Using cached python_multipart-0.0.20-py3-none-any.whl.metadata (1.8 kB)\n",
      "Using cached python_multipart-0.0.20-py3-none-any.whl (24 kB)\n",
      "Installing collected packages: python-multipart\n",
      "Successfully installed python-multipart-0.0.20\n",
      "Note: you may need to restart the kernel to use updated packages.\n"
     ]
    },
    {
     "name": "stderr",
     "output_type": "stream",
     "text": [
      "\n",
      "[notice] A new release of pip is available: 24.0 -> 24.3.1\n",
      "[notice] To update, run: python.exe -m pip install --upgrade pip\n"
     ]
    }
   ],
   "source": [
    "pip install python-multipart"
   ]
  },
  {
   "cell_type": "code",
   "execution_count": 16,
   "metadata": {},
   "outputs": [
    {
     "ename": "ImportError",
     "evalue": "cannot import name 'langchain_chroma' from 'document_processor' (c:\\Users\\Julian\\Desktop\\Repositorios\\ProyectoPiChatBotHyS\\src\\core\\document_processor.py)",
     "output_type": "error",
     "traceback": [
      "\u001b[1;31m---------------------------------------------------------------------------\u001b[0m",
      "\u001b[1;31mImportError\u001b[0m                               Traceback (most recent call last)",
      "Cell \u001b[1;32mIn[16], line 1\u001b[0m\n\u001b[1;32m----> 1\u001b[0m \u001b[38;5;28;01mfrom\u001b[39;00m \u001b[38;5;21;01mdocument_processor\u001b[39;00m \u001b[38;5;28;01mimport\u001b[39;00m langchain_chroma\n",
      "\u001b[1;31mImportError\u001b[0m: cannot import name 'langchain_chroma' from 'document_processor' (c:\\Users\\Julian\\Desktop\\Repositorios\\ProyectoPiChatBotHyS\\src\\core\\document_processor.py)"
     ]
    }
   ],
   "source": [
    "from document_processor import DocumentProcessor"
   ]
  },
  {
   "cell_type": "code",
   "execution_count": 11,
   "metadata": {},
   "outputs": [],
   "source": [
    "# Crear una instancia de DocumentProcessor\n",
    "processor = DocumentProcessor()\n",
    "\n",
    "# Cargar el archivo PDF\n",
    "file = \"C:/Users/Julian/Desktop/Repositorios/ProyectoPiChatBotHyS/data/raw/iso-45001-norma-Internacional.pdf\"\n",
    "\n",
    "# Procesar el documento\n",
    "chunk, meta = processor.process_iso_document(file_path=file)"
   ]
  },
  {
   "cell_type": "code",
   "execution_count": 15,
   "metadata": {},
   "outputs": [
    {
     "name": "stdout",
     "output_type": "stream",
     "text": [
      "{'standard_number': 'ISO 45001:2018', 'version': None, 'sections': {'4.1': 'Comprensión de la organización y de su contexto', '4.2': 'Comprensión de las necesidades y expectativas de los trabajadores y de otras', '4.3': 'Determinación del alcance del sistema de gestión de la SST', '4.4': 'Sistema de gestión de la SST', '5.1': 'Liderazgo y compromiso', '5.2': 'Política de la SST', '5.3': 'Roles, responsabilidades y autoridades en la organización', '5.4': 'Consulta y participación de los trabajadores', '6.1': 'Acciones para abordar riesgos y oportunidades', '6.1.1': 'Generalidades', '6.1.2': 'Identificación de peligros y evaluación de los riesgos y oportunidades', '6.1.3': 'Determinación de los requisitos legales y otros requisitos', '6.1.4': 'Planificación de acciones', '6.2': 'Objetivos de la SST y planificación para lograrlos', '6.2.1': 'Objetivos de la SST', '6.2.2': 'Planificación para lograr los objetivos de la SST', '7.1': 'Recursos', '7.2': 'Competencia', '7.3': 'Toma de conciencia', '7.4': 'Comunicación', '7.4.1': 'Generalidades', '7.4.2': 'Comunicación interna', '7.4.3': 'Comunicación externa', '7.5': 'Información documentada', '7.5.1': 'Generalidades', '7.5.2': 'Creación y actualización', '7.5.3': 'Control de la Información documentada', '8.1': 'Planificación y control operacional', '8.1.1': 'Generalidades', '8.1.2': 'Eliminar peligros y reducir riesgos para la SST', '8.1.3': 'Gestión del cambio', '8.1.4': 'Compras', '8.2': 'Preparación y respuesta ante emergencias', '9.1': 'Seguimiento, medición, análisis y evaluación del desempeño', '9.1.1': 'Generalidades', '9.1.2': 'Evaluación del cumplimiento', '9.2': 'Auditoría interna', '9.2.1': 'Generalidades', '9.2.2': 'Programa de auditoría interna', '9.3': 'Revisión por la dirección', '10.1': 'Generalidades', '10.2': 'Incidentes, no conformidades y acciones correctivas', '10.3': 'Mejora continua', '0.1': 'Antecedentes', '0.2': 'Objetivo de un sistema de gestión de la SST', '0.3': 'Factores de éxito', '0.4': 'Ciclo Planificar-Hacer-Verificar-Actuar', '0.5': 'Contenido de este documento', '6.1.2.1': 'Identificación de peligros', '6.1.2.2': 'Evaluación de los riesgos para la SST y otros riesgos para el sistema de gestión de la', '6.1.2.3': 'Evaluación de las oportunidades para la SST y otras oportunidades para el sistema de', '8.1.4.1': 'Generalidades', '8.1.4.2': 'Contratistas', '8.1.4.3': 'Contratación externa'}}\n"
     ]
    }
   ],
   "source": [
    "print( meta)"
   ]
  },
  {
   "cell_type": "code",
   "execution_count": null,
   "metadata": {},
   "outputs": [],
   "source": [
    "\n"
   ]
  }
 ],
 "metadata": {
  "kernelspec": {
   "display_name": "venv",
   "language": "python",
   "name": "python3"
  },
  "language_info": {
   "codemirror_mode": {
    "name": "ipython",
    "version": 3
   },
   "file_extension": ".py",
   "mimetype": "text/x-python",
   "name": "python",
   "nbconvert_exporter": "python",
   "pygments_lexer": "ipython3",
   "version": "3.12.4"
  }
 },
 "nbformat": 4,
 "nbformat_minor": 2
}
